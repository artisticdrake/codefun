{
  "cells": [
    {
      "cell_type": "markdown",
      "metadata": {
        "id": "view-in-github",
        "colab_type": "text"
      },
      "source": [
        "<a href=\"https://colab.research.google.com/github/artisticdrake/codefun/blob/main/new_intro.ipynb\" target=\"_parent\"><img src=\"https://colab.research.google.com/assets/colab-badge.svg\" alt=\"Open In Colab\"/></a>"
      ]
    },
    {
      "cell_type": "code",
      "source": [
        "from random import *"
      ],
      "metadata": {
        "id": "3Ug6yopVEhqB"
      },
      "execution_count": 20,
      "outputs": []
    },
    {
      "cell_type": "code",
      "source": [
        "k=randrange(0,100)"
      ],
      "metadata": {
        "id": "qY4Ax3D1Eq4h"
      },
      "execution_count": 27,
      "outputs": []
    },
    {
      "cell_type": "code",
      "source": [
        "for i in range (k):\n",
        "  print(\"Iter: \",i)"
      ],
      "metadata": {
        "id": "XvX3KFGxExY2",
        "outputId": "3b395819-9af3-47ad-f541-f46fc20d4998",
        "colab": {
          "base_uri": "https://localhost:8080/"
        }
      },
      "execution_count": 28,
      "outputs": [
        {
          "output_type": "stream",
          "name": "stdout",
          "text": [
            "Iter:  0\n",
            "Iter:  1\n",
            "Iter:  2\n",
            "Iter:  3\n",
            "Iter:  4\n",
            "Iter:  5\n",
            "Iter:  6\n",
            "Iter:  7\n",
            "Iter:  8\n",
            "Iter:  9\n",
            "Iter:  10\n",
            "Iter:  11\n",
            "Iter:  12\n",
            "Iter:  13\n",
            "Iter:  14\n",
            "Iter:  15\n",
            "Iter:  16\n",
            "Iter:  17\n",
            "Iter:  18\n",
            "Iter:  19\n",
            "Iter:  20\n",
            "Iter:  21\n",
            "Iter:  22\n",
            "Iter:  23\n",
            "Iter:  24\n",
            "Iter:  25\n",
            "Iter:  26\n",
            "Iter:  27\n",
            "Iter:  28\n",
            "Iter:  29\n",
            "Iter:  30\n",
            "Iter:  31\n",
            "Iter:  32\n",
            "Iter:  33\n",
            "Iter:  34\n",
            "Iter:  35\n",
            "Iter:  36\n",
            "Iter:  37\n",
            "Iter:  38\n",
            "Iter:  39\n"
          ]
        }
      ]
    }
  ],
  "metadata": {
    "colab": {
      "collapsed_sections": [],
      "name": "Welcome To Colaboratory",
      "provenance": [],
      "include_colab_link": true
    },
    "kernelspec": {
      "display_name": "Python 3",
      "name": "python3"
    }
  },
  "nbformat": 4,
  "nbformat_minor": 0
}