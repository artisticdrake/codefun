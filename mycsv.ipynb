{
  "nbformat": 4,
  "nbformat_minor": 0,
  "metadata": {
    "colab": {
      "provenance": [],
      "authorship_tag": "ABX9TyPNb6ukCvgY6wiU0SYCfSov",
      "include_colab_link": true
    },
    "kernelspec": {
      "name": "python3",
      "display_name": "Python 3"
    },
    "language_info": {
      "name": "python"
    }
  },
  "cells": [
    {
      "cell_type": "markdown",
      "metadata": {
        "id": "view-in-github",
        "colab_type": "text"
      },
      "source": [
        "<a href=\"https://colab.research.google.com/github/artisticdrake/codefun/blob/main/mycsv.ipynb\" target=\"_parent\"><img src=\"https://colab.research.google.com/assets/colab-badge.svg\" alt=\"Open In Colab\"/></a>"
      ]
    },
    {
      "cell_type": "code",
      "execution_count": 3,
      "metadata": {
        "colab": {
          "base_uri": "https://localhost:8080/"
        },
        "id": "3S-G8glF475x",
        "outputId": "c09a1929-3b97-421f-d76b-eee2877cddd0"
      },
      "outputs": [
        {
          "output_type": "stream",
          "name": "stdout",
          "text": [
            "Mounted at /content/drive\n"
          ]
        }
      ],
      "source": [
        "from google.colab import drive\n",
        "drive.mount('/content/drive')"
      ]
    },
    {
      "cell_type": "code",
      "source": [
        "\n",
        "import pandas as pd\n",
        "df=pd.read_csv(r'mycsv.csv')"
      ],
      "metadata": {
        "id": "B_omfUqo5qBT"
      },
      "execution_count": null,
      "outputs": []
    },
    {
      "cell_type": "code",
      "source": [
        "df.head(10)"
      ],
      "metadata": {
        "id": "gv88aeJu5EEa"
      },
      "execution_count": null,
      "outputs": []
    },
    {
      "cell_type": "code",
      "source": [
        "def uncon():\n",
        "    c=0\n",
        "    for i in range(len(df)):\n",
        "        if(df.iloc[i,1]=='golf'):\n",
        "            c+=1\n",
        "    #print(c)\n",
        "    pa=c/len(df)\n",
        "    print(\"Unconditional probability of golf is: \",pa)\n",
        "uncon()\n",
        "def con():\n",
        "    c,u=0,0\n",
        "    for i in range(len(df)):\n",
        "        if(df.iloc[i,6]=='medrisk'):\n",
        "            c+=1 \n",
        "    for i in range(len(df)):\n",
        "        if(df.iloc[i,3]=='single'):\n",
        "            u+=1\n",
        "    pb1=c/len(df)\n",
        "    pa1=u/len(df)\n",
        "    pab=pa1*pb1\n",
        "    #print(pab)\n",
        "    pagb=(pab)/pb1\n",
        "    print(\"\\nThe Conditional probability of single given medrisk is:\",pagb)\n",
        "con()\n",
        "    \n",
        "    \n",
        "    "
      ],
      "metadata": {
        "id": "1ezHUUgb6PbI"
      },
      "execution_count": null,
      "outputs": []
    }
  ]
}