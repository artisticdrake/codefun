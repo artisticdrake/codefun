{
  "nbformat": 4,
  "nbformat_minor": 0,
  "metadata": {
    "colab": {
      "provenance": [],
      "authorship_tag": "ABX9TyMrbiV1lUD8YXERwwsx7rNL",
      "include_colab_link": true
    },
    "kernelspec": {
      "name": "python3",
      "display_name": "Python 3"
    },
    "language_info": {
      "name": "python"
    }
  },
  "cells": [
    {
      "cell_type": "markdown",
      "metadata": {
        "id": "view-in-github",
        "colab_type": "text"
      },
      "source": [
        "<a href=\"https://colab.research.google.com/github/artisticdrake/codefun/blob/main/nb.ipynb\" target=\"_parent\"><img src=\"https://colab.research.google.com/assets/colab-badge.svg\" alt=\"Open In Colab\"/></a>"
      ]
    },
    {
      "cell_type": "code",
      "execution_count": 28,
      "metadata": {
        "colab": {
          "base_uri": "https://localhost:8080/"
        },
        "id": "1ZNTem0-JPuT",
        "outputId": "63d065f2-5d67-4c2f-f5fa-ce7f5a74e91a"
      },
      "outputs": [
        {
          "output_type": "execute_result",
          "data": {
            "text/plain": [
              "['am', 'are', 'fine', 'how', 'i', 'is', 'it', 'ok', 'thank', 'who', 'you']"
            ]
          },
          "metadata": {},
          "execution_count": 28
        }
      ],
      "source": [
        "t1=open(\"d1.txt\",'r')\n",
        "t2=open(\"d2.txt\",'r')\n",
        "t3=open(\"d3.txt\",'r')\n",
        "t4=open(\"d4.txt\",'r')\n",
        "t5=open(\"d5.txt\",'r')\n",
        "d=[t1,t2,t3,t4,t5]\n",
        "l,nl=[],[]\n",
        "c1,c2,c3,c4,c5=[],[],[],[],[]\n",
        "for i in d:\n",
        "    l.append(i.read().lower().split())\n",
        "    i.close()\n",
        "for i in l:\n",
        "    nl+=i\n",
        "nl=list(set(nl))\n",
        "nl.sort()\n",
        "#print(nl)\n",
        "d1=l[0]\n",
        "d2=l[1]\n",
        "d3=l[2]\n",
        "d4=l[3]\n",
        "d5=l[4]\n",
        "nd=[d1,d2,d3,d4,d5]\n",
        "cd=[c1,c2,c3,c4,c5]\n",
        "for i in range(len(nl)):\n",
        "    for j in nd:\n",
        "        for k in range(len(j)):\n",
        "            if[j[k]==nl[i]]:\n",
        "                cd[k].append(1)\n",
        "            else:\n",
        "                cd[k].append(0)\n"
      ]
    }
  ]
}